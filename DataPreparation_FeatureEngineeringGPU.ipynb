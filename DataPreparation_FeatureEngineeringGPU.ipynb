{
 "cells": [
  {
   "cell_type": "code",
   "execution_count": 1,
   "metadata": {},
   "outputs": [],
   "source": [
    "import numpy as np\n",
    "import pandas as pd \n",
    "import matplotlib.pyplot as plt \n",
    "import seaborn as sb "
   ]
  },
  {
   "cell_type": "code",
   "execution_count": 2,
   "metadata": {},
   "outputs": [],
   "source": [
    "data = pd.read_csv('consumption_interpolated_updated.csv')"
   ]
  },
  {
   "cell_type": "code",
   "execution_count": null,
   "metadata": {},
   "outputs": [],
   "source": [
    "# display auto-correlation graph \n",
    "from pandas.plotting import autocorrelation_plot as auto_p\n",
    "plt.figure(figsize=(20,5))\n",
    "f = auto_p(data['consumption'])\n",
    "# f.set_xlim([1,500])"
   ]
  },
  {
   "cell_type": "code",
   "execution_count": 3,
   "metadata": {},
   "outputs": [],
   "source": [
    "# reformat time-string \n",
    "data['date'] = data['Unnamed: 0'].apply(lambda x: x.split(' ')[0])\n",
    "data['time'] = data['Unnamed: 0'].apply(lambda x: x.split(' ')[1])\n",
    "data = data.drop(['Unnamed: 0'],axis=1)"
   ]
  },
  {
   "cell_type": "code",
   "execution_count": 4,
   "metadata": {},
   "outputs": [],
   "source": [
    "# retrive date informations from 'date'\n",
    "data['date'] = data['date'].astype('datetime64[D]')\n",
    "data['week'] = data['date'].dt.week\n",
    "data['month'] = data['date'].dt.month\n",
    "data['day'] = data['date'].dt.dayofyear"
   ]
  },
  {
   "cell_type": "code",
   "execution_count": 5,
   "metadata": {},
   "outputs": [],
   "source": [
    "def Season(x):\n",
    "    if 1<=x<=3: \n",
    "        return 4\n",
    "    elif 4<=x<=6:\n",
    "        return 1\n",
    "    elif 7<=x<=9:\n",
    "        return 2\n",
    "    else:\n",
    "        return 3\n",
    "    \n",
    "# retrive hour information \n",
    "data['hour'] = data['time'].apply(lambda x: float(x.split(':')[0])) + data['time'].apply(lambda x: float(x.split(':')[1])/60)\n",
    "data['minuteOfDay'] = data['time'].apply(lambda x: float(x.split(':')[1])) + 60*data['hour']\n",
    "data['working?'] = data['hour'].apply(lambda x: x>6 and x<20)\n",
    "data['season'] = data['month'].apply(Season)\n",
    "                                                                            \n",
    "data = data.drop(['time','date','hour'],axis=1)"
   ]
  },
  {
   "cell_type": "code",
   "execution_count": 6,
   "metadata": {},
   "outputs": [],
   "source": [
    "# determine the columns' type \n",
    "for col in data.columns:\n",
    "    data[col] = data[col].astype('float')"
   ]
  },
  {
   "cell_type": "code",
   "execution_count": 7,
   "metadata": {},
   "outputs": [],
   "source": [
    "# delete abnormal time series \n",
    "data = data.loc[11000:]"
   ]
  },
  {
   "cell_type": "code",
   "execution_count": 11,
   "metadata": {},
   "outputs": [
    {
     "name": "stdout",
     "output_type": "stream",
     "text": [
      "48480         NaN\n",
      "48481         NaN\n",
      "48482         NaN\n",
      "48483         NaN\n",
      "48484         NaN\n",
      "           ...   \n",
      "64539    0.147626\n",
      "64540    0.147757\n",
      "64541    0.049817\n",
      "64542    0.013954\n",
      "64543    0.035211\n",
      "Name: consumption, Length: 16064, dtype: float64\n",
      "(16064,)\n",
      "0.1978300266442752\n"
     ]
    }
   ],
   "source": [
    "from math import sqrt\n",
    "error = test['consumption'] - test['consumption'].shift(96)\n",
    "print(error)\n",
    "print(error.shape)\n",
    "RMSE = sqrt((error*error).sum()/(error.shape[0]-96))\n",
    "print(RMSE)"
   ]
  },
  {
   "cell_type": "code",
   "execution_count": 8,
   "metadata": {},
   "outputs": [],
   "source": [
    "# train, test split \n",
    "from sklearn.model_selection import train_test_split\n",
    "train,test = train_test_split(data,test_size=0.3,shuffle=False)"
   ]
  },
  {
   "cell_type": "code",
   "execution_count": null,
   "metadata": {},
   "outputs": [],
   "source": [
    "origin = test\n",
    "origin['consumption'].to_csv('Original_y0.csv',index=False)"
   ]
  },
  {
   "cell_type": "code",
   "execution_count": null,
   "metadata": {},
   "outputs": [],
   "source": [
    "# assign data with train and test to continue! "
   ]
  },
  {
   "cell_type": "code",
   "execution_count": null,
   "metadata": {},
   "outputs": [],
   "source": [
    "# from scipy.signal import savgol_filter\n",
    "\n",
    "# smoothed_2dg = savgol_filter(train['consumption'], window_length = 5, polyorder = 2)\n",
    "\n",
    "# smoothed_1dg = savgol_filter(train['consumption'], window_length = 5, polyorder = 1)\n",
    "\n",
    "# data['smoothed_2dg'] = smoothed_2dg\n",
    "# data['smoothed_1dg'] = smoothed_1dg\n",
    "\n",
    "# # f,axes = plt.subplots(3,1,figsize=(75,15))\n",
    "# # a = sb.lineplot(x=data.index,y='smoothed_2dg',data=data,ax=axes[0])\n",
    "# # a.set_xlim([11000,11500])\n",
    "# # b = sb.lineplot(x=data.index,y='smoothed_1dg',data=data,ax=axes[1])\n",
    "# # b.set_xlim([11000,11500])\n",
    "# # c = sb.lineplot(x=data.index,y='consumption',data=data,ax=axes[2])\n",
    "# # c.set_xlim([11000,11500])\n"
   ]
  },
  {
   "cell_type": "code",
   "execution_count": null,
   "metadata": {},
   "outputs": [],
   "source": [
    "# data['consumption'] = data['smoothed_2dg']\n",
    "# data.drop(['smoothed_2dg','smoothed_1dg'],axis=1,inplace=True)\n",
    "# data"
   ]
  },
  {
   "cell_type": "code",
   "execution_count": null,
   "metadata": {},
   "outputs": [],
   "source": [
    "# data['difference'] = data['Consumption'] - data['Consumption'].shift(96)\n",
    "# data = data[96:]\n",
    "# data\n"
   ]
  },
  {
   "cell_type": "code",
   "execution_count": null,
   "metadata": {},
   "outputs": [],
   "source": [
    "difference  = train['consumption'] - train['consumption'].shift(96)\n",
    "train['consumption'] = difference\n",
    "difference  = test['consumption'] - test['consumption'].shift(96)\n",
    "test['consumption'] = difference \n",
    "train = train.iloc[96:]\n",
    "test = test.iloc[96:]\n",
    "test"
   ]
  },
  {
   "cell_type": "code",
   "execution_count": 10,
   "metadata": {},
   "outputs": [
    {
     "name": "stderr",
     "output_type": "stream",
     "text": [
      "/usr/local/lib/python3.6/dist-packages/ipykernel_launcher.py:6: SettingWithCopyWarning: \n",
      "A value is trying to be set on a copy of a slice from a DataFrame.\n",
      "Try using .loc[row_indexer,col_indexer] = value instead\n",
      "\n",
      "See the caveats in the documentation: http://pandas.pydata.org/pandas-docs/stable/user_guide/indexing.html#returning-a-view-versus-a-copy\n",
      "  \n",
      "/usr/local/lib/python3.6/dist-packages/pandas/core/frame.py:3493: SettingWithCopyWarning: \n",
      "A value is trying to be set on a copy of a slice from a DataFrame\n",
      "\n",
      "See the caveats in the documentation: http://pandas.pydata.org/pandas-docs/stable/user_guide/indexing.html#returning-a-view-versus-a-copy\n",
      "  self.loc._setitem_with_indexer((slice(None), indexer), value)\n",
      "/usr/local/lib/python3.6/dist-packages/pandas/core/frame.py:3464: SettingWithCopyWarning: \n",
      "A value is trying to be set on a copy of a slice from a DataFrame\n",
      "\n",
      "See the caveats in the documentation: http://pandas.pydata.org/pandas-docs/stable/user_guide/indexing.html#returning-a-view-versus-a-copy\n",
      "  self._setitem_array(key, value)\n",
      "/usr/local/lib/python3.6/dist-packages/ipykernel_launcher.py:7: SettingWithCopyWarning: \n",
      "A value is trying to be set on a copy of a slice from a DataFrame.\n",
      "Try using .loc[row_indexer,col_indexer] = value instead\n",
      "\n",
      "See the caveats in the documentation: http://pandas.pydata.org/pandas-docs/stable/user_guide/indexing.html#returning-a-view-versus-a-copy\n",
      "  import sys\n",
      "/usr/local/lib/python3.6/dist-packages/pandas/core/frame.py:3493: SettingWithCopyWarning: \n",
      "A value is trying to be set on a copy of a slice from a DataFrame\n",
      "\n",
      "See the caveats in the documentation: http://pandas.pydata.org/pandas-docs/stable/user_guide/indexing.html#returning-a-view-versus-a-copy\n",
      "  self.loc._setitem_with_indexer((slice(None), indexer), value)\n",
      "/usr/local/lib/python3.6/dist-packages/pandas/core/frame.py:3464: SettingWithCopyWarning: \n",
      "A value is trying to be set on a copy of a slice from a DataFrame\n",
      "\n",
      "See the caveats in the documentation: http://pandas.pydata.org/pandas-docs/stable/user_guide/indexing.html#returning-a-view-versus-a-copy\n",
      "  self._setitem_array(key, value)\n"
     ]
    }
   ],
   "source": [
    "# normalization\n",
    "from sklearn.preprocessing import MinMaxScaler\n",
    "scaler = MinMaxScaler()\n",
    "scaler_diff = MinMaxScaler()\n",
    "scaler_diff.fit(train[['consumption']])\n",
    "train[train.columns] = scaler.fit_transform(train[train.columns])\n",
    "test[test.columns] = scaler.transform(test[test.columns])\n",
    "\n",
    "# data\n",
    "\n",
    "# Min-Max Normalization: range [-0.5,0.5]\n",
    "# data['consumption'] = (data['consumption'] - data['consumption'].mean())/(data['consumption'].max()-data['consumption'].min())\n",
    "\n",
    "# # Decimal Scaling \n",
    "# data['consumption'] = data['consumption']/10000"
   ]
  },
  {
   "cell_type": "code",
   "execution_count": null,
   "metadata": {},
   "outputs": [],
   "source": [
    "import pickle\n",
    "\n",
    "with open('Scalar.pickle', 'wb') as file:\n",
    "    pickle.dump(scaler_diff,file, protocol=pickle.HIGHEST_PROTOCOL)"
   ]
  },
  {
   "cell_type": "code",
   "execution_count": null,
   "metadata": {},
   "outputs": [],
   "source": [
    "# for col in data.columns:\n",
    "#     data[col] = 2*(data[col]-data[col].min())/(data[col].max()-data[col].min())\n",
    "# data"
   ]
  },
  {
   "cell_type": "code",
   "execution_count": null,
   "metadata": {},
   "outputs": [],
   "source": [
    "# windowing the dataset \n",
    "def windowing(df,target,win_size=96,feature_win_size=96,lag=96):\n",
    "    '''\n",
    "    Generate windowing DataFrame for df\n",
    "    \n",
    "    arguments: \n",
    "        df: target pandas.DataFrame\n",
    "        target: the name of predictor\n",
    "        win_size: the size of windows to feed in models as orignal data\n",
    "        feature_win_size: the size of windows to analyze, but the original data is not feed into models. feature_win_size > win_size. \n",
    "    \n",
    "    return: the new dataframe after windowing.'''\n",
    "    from numpy.fft import fft \n",
    "    \n",
    "    def get_outliers_rows(S):\n",
    "        compare = (S-S.mean()).abs() > 2*S.std()\n",
    "        windows_stat['outlier_max'] = S[compare].max()\n",
    "        windows_stat['outlier_min'] = S[compare].min()\n",
    "        windows_stat['outlier_distance'] = windows_stat['outlier_max'] - windows_stat['outlier_min']\n",
    "        windows_stat['outlier_numbers'] = compare.sum()\n",
    "        windows_stat.fillna(0,inplace=True)\n",
    "        \n",
    "    def entropy(series):\n",
    "        import scipy.stats\n",
    "        p_data = series.value_counts()\n",
    "        entropy = scipy.stats.entropy(p_data)\n",
    "        return entropy\n",
    "    \n",
    "    def negative_turning(series):\n",
    "        point_num = 0\n",
    "        last = 0\n",
    "        for i,value in series.iteritems():\n",
    "            if i==0:\n",
    "                last = value\n",
    "                continue \n",
    "            if value < last:\n",
    "                point_num += 1 \n",
    "            last = value \n",
    "        return point_num \n",
    "    \n",
    "    def positive_turning(series):\n",
    "        point_num = 0\n",
    "        last = 0\n",
    "        for i,value in series.iteritems():\n",
    "            if i==0:\n",
    "                last = value\n",
    "                continue \n",
    "            if value > last:\n",
    "                point_num += 1 \n",
    "            last = value \n",
    "        return point_num \n",
    "        \n",
    "    def get_slope(signal):\n",
    "        \"\"\"\n",
    "        copy from tsfel \n",
    "        Computes the slope of the signal.\n",
    "        Slope is computed by fitting a linear equation to the observed data.\n",
    "        Feature computational cost: 1\n",
    "        Parameters\n",
    "        ----------\n",
    "        signal : nd-array\n",
    "            Input from which linear equation is computed\n",
    "        Returns\n",
    "        -------\n",
    "        float\n",
    "            Slope\n",
    "        \"\"\"\n",
    "        t = np.linspace(0, len(signal) - 1, len(signal))\n",
    "        return np.polyfit(t, signal, 1)[0]\n",
    "    \n",
    "    windows = pd.DataFrame()\n",
    "    for i in range(0,feature_win_size):\n",
    "        windows[str(i)] = df[target].shift(lag+i)\n",
    "    windows = windows[lag+feature_win_size-1:] # Remove rows with NaN \n",
    "    \n",
    "    windows_stat = pd.DataFrame()\n",
    "    windows_stat['Mean'] = windows.mean(axis=1)\n",
    "    windows_stat['Median'] = windows.median(axis=1)\n",
    "    windows_stat['std'] = windows.std(axis=1)\n",
    "#     windows.apply(get_outliers_rows,axis=1)\n",
    "    windows_stat['skewness'] = windows.skew(axis=1)\n",
    "    windows_stat['kurtosis'] = windows.kurtosis(axis=1)\n",
    "    windows_stat['entropy'] = windows.apply(entropy,axis=1)\n",
    "    windows_stat['25quantile'] = windows.quantile(0.25,axis=1)\n",
    "    windows_stat['75quantile'] = windows.quantile(0.75,axis=1)\n",
    "    windows_stat['InterquartileRange'] = windows_stat['75quantile'] - windows_stat['25quantile']\n",
    "    windows_stat['mad'] = windows.mad(axis=1)\n",
    "    windows_stat['RMS'] = windows_stat['Mean']**(1/2)\n",
    "    windows_stat['Var'] = windows.var(axis=1)\n",
    "#     windows_stat['NegativeTurning'] = windows.apply(negative_turning, axis=1)\n",
    "#     windows_stat['PositiveTurning'] = windows.apply(negative_turning, axis=1)\n",
    "    windows_stat['mean_abs_diff'] = windows.apply(lambda x: np.mean(np.abs(np.diff(x))),axis=1)\n",
    "    windows_stat['mean_diff'] = windows.apply(lambda x: np.mean(np.diff(x)),axis=1)\n",
    "    windows_stat['median_abs_diff'] = windows.apply(lambda x: np.median(np.abs(np.diff(x))),axis=1)\n",
    "    windows_stat['sum_abs_diff'] = windows.apply(lambda x: np.sum(np.abs(np.diff(x))),axis=1)\n",
    "    windows_stat['abs_energy'] = windows.apply(lambda x: np.sum(np.array(x) ** 2),axis=1)\n",
    "    windows_stat['slope'] = windows.apply(get_slope,axis=1)\n",
    "    windows_stat.fillna(0,inplace=True)\n",
    "    \n",
    "    windows_stat['96'] = df[target].shift(96)\n",
    "    windows_stat['96'].fillna(windows_stat['96'].mean(),inplace=True)\n",
    "    windows_stat['192'] = df[target].shift(192)\n",
    "    windows_stat['192'].fillna(windows_stat['192'].mean(),inplace=True)\n",
    "    windows_stat['288'] = df[target].shift(288)\n",
    "    windows_stat['288'].fillna(windows_stat['288'].mean(),inplace=True)\n",
    "    windows_stat['momentum'] = pd.DataFrame(windows_stat['96'] - windows_stat['192'])\n",
    "    windows_stat['force'] = pd.DataFrame(windows_stat['96']- 2*windows_stat['192']+windows_stat['288'])\n",
    "    windows_stat.drop(['96','192','288'],axis=1,inplace=True)\n",
    "    \n",
    "    \n",
    "    windows_origin = pd.DataFrame()\n",
    "    for i in range(0,win_size):\n",
    "        windows_origin[str(i)] = df[target].shift(lag+i)\n",
    "    windows_origin = windows_origin[lag+feature_win_size-1:] # Remove rows with NaN \n",
    "\n",
    "    return pd.concat([df[lag+feature_win_size-1:],windows_origin,windows_stat],axis=1)"
   ]
  },
  {
   "cell_type": "code",
   "execution_count": null,
   "metadata": {},
   "outputs": [],
   "source": [
    "train = windowing(train,target='consumption')\n",
    "test = windowing(test,target='consumption')"
   ]
  },
  {
   "cell_type": "code",
   "execution_count": null,
   "metadata": {},
   "outputs": [],
   "source": [
    "with pd.option_context('display.max_rows', None, 'display.max_columns', None):\n",
    "    print(train.dtypes)"
   ]
  },
  {
   "cell_type": "code",
   "execution_count": null,
   "metadata": {},
   "outputs": [],
   "source": [
    "train.shape"
   ]
  },
  {
   "cell_type": "code",
   "execution_count": null,
   "metadata": {},
   "outputs": [],
   "source": [
    "train.isnull().sum().sum()"
   ]
  },
  {
   "cell_type": "code",
   "execution_count": null,
   "metadata": {},
   "outputs": [],
   "source": [
    "with pd.option_context('display.max_rows', None, 'display.max_columns', None):  # more options can be specified also\n",
    "    print(w_data.corr())"
   ]
  },
  {
   "cell_type": "code",
   "execution_count": null,
   "metadata": {},
   "outputs": [],
   "source": [
    "f = plt.figure(figsize=(9,9))\n",
    "sb.heatmap(w_data.corr())"
   ]
  },
  {
   "cell_type": "code",
   "execution_count": null,
   "metadata": {},
   "outputs": [],
   "source": [
    "w_data.describe()"
   ]
  },
  {
   "cell_type": "code",
   "execution_count": null,
   "metadata": {},
   "outputs": [],
   "source": [
    "train.to_csv('TrainData.csv')"
   ]
  },
  {
   "cell_type": "code",
   "execution_count": null,
   "metadata": {},
   "outputs": [],
   "source": [
    "test.to_csv('TestData.csv')"
   ]
  },
  {
   "cell_type": "code",
   "execution_count": null,
   "metadata": {},
   "outputs": [],
   "source": [
    "print(list(w_data.columns))"
   ]
  },
  {
   "cell_type": "markdown",
   "metadata": {},
   "source": [
    "差值图"
   ]
  },
  {
   "cell_type": "code",
   "execution_count": null,
   "metadata": {},
   "outputs": [],
   "source": [
    "difference  = data['consumption'] - data['consumption'].shift(96)"
   ]
  },
  {
   "cell_type": "code",
   "execution_count": null,
   "metadata": {},
   "outputs": [],
   "source": [
    "f = plt.figure(figsize=(25,5))\n",
    "sb.lineplot(x=data.index,y=data['consumption'])"
   ]
  },
  {
   "cell_type": "code",
   "execution_count": null,
   "metadata": {},
   "outputs": [],
   "source": [
    "differnce2 = data['consumption'] - 2*data['consumption'].shift(96) + data['consumption'].shift(96*2)\n",
    "f = plt.figure(figsize=(25,5))\n",
    "sb.lineplot(x=differnce2.index,y=differnce2)"
   ]
  },
  {
   "cell_type": "code",
   "execution_count": null,
   "metadata": {},
   "outputs": [],
   "source": []
  }
 ],
 "metadata": {
  "kernelspec": {
   "display_name": "Python 3",
   "language": "python",
   "name": "python3"
  },
  "language_info": {
   "codemirror_mode": {
    "name": "ipython",
    "version": 3
   },
   "file_extension": ".py",
   "mimetype": "text/x-python",
   "name": "python",
   "nbconvert_exporter": "python",
   "pygments_lexer": "ipython3",
   "version": "3.7.4"
  }
 },
 "nbformat": 4,
 "nbformat_minor": 4
}
